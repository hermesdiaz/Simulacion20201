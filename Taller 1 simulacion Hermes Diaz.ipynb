{
  "nbformat": 4,
  "nbformat_minor": 0,
  "metadata": {
    "colab": {
      "name": "Copia de Taller 1.ipynb",
      "provenance": [],
      "collapsed_sections": []
    },
    "kernelspec": {
      "name": "python3",
      "display_name": "Python 3"
    }
  },
  "cells": [
    {
      "cell_type": "markdown",
      "metadata": {
        "id": "Rhnd7gir-jz-",
        "colab_type": "text"
      },
      "source": [
        "# **Taller 1 - Simulación Computacional 2020-I**\n",
        "\n",
        "Fecha de entrega: 7 de Septiembre de 2020"
      ]
    },
    {
      "cell_type": "markdown",
      "metadata": {
        "id": "eae9HxiDQG8H",
        "colab_type": "text"
      },
      "source": [
        "## 1.\n",
        "Los siguientes datos muestran los tiempos de llegada y los tiempos de servicio que requerirá cada cliente, para los primeros 13 clientes en un sistema de servidor único. A su llegada, un cliente ingresa al servicio si el servidor está libre o se une a la línea de espera. Cuando el servidor completa el trabajo en un cliente, el siguiente en la fila (es decir, el que ha estado esperando por más tiempo) entra en servicio.\n",
        "\n",
        "\n",
        "| Tiempos de llegada  | 12 | 31 | 63 | 95 | 99 | 154 | 198 | 221 | 304 | 346 | 411 | 455 | 537|\n",
        "----------------------| |  |  |  |  |   |   |   |   |   |   |   |  |\n",
        "| Tiempos de servicio | 40 | 32 | 55 | 48 | 18 |  50 |  47 |  18 |  28 |  54 |  40 |  72 |  12|\n",
        "\n",
        "a) Determine los tiempos de salida de estos 13 clientes.<br>\n",
        "b) Repetir a) cuando hay dos servidores y un cliente puede ser atendido por cualquiera.<br>\n",
        "c) Repetir a) bajo el nuevo supuesto que cuando el servidor termina un servicio, el siguiente cliente en entrar al servidor es aquel quien ha estado esperando el menor tiempo."
      ]
    },
    {
      "cell_type": "code",
      "metadata": {
        "id": "PQvoAkyMfeJt",
        "colab_type": "code",
        "colab": {
          "base_uri": "https://localhost:8080/",
          "height": 34
        },
        "outputId": "1e067cea-a437-4cbc-aa77-ad02885089bc"
      },
      "source": [
        "def punto1():\n",
        "    #a)\n",
        "    tiempoLlegada = [12, 31, 63, 95, 99, 154, 198, 221, 304, 346, 411, 455, 537]\n",
        "    tiempoServicio = [40, 32, 55, 48, 18, 50, 47, 18, 28, 54, 40, 72, 12]\n",
        "    tiempoCola = []\n",
        "    tiempoInicioServicio = []\n",
        "    tiempoFinServicio = []\n",
        "    tiempoSistema = []\n",
        "    for i in range(len(tiempoLlegada)):\n",
        "        if i == 0:\n",
        "            tiempoCola.append(0)\n",
        "            tiempoInicioServicio.append(tiempoLlegada[i] + tiempoCola[i])\n",
        "            tiempoFinServicio.append(tiempoServicio[i] + tiempoInicioServicio[i])\n",
        "            tiempoSistema.append(tiempoServicio[i] + tiempoCola[i])\n",
        "        else:\n",
        "            if tiempoLlegada[i] < tiempoFinServicio[i - 1]:\n",
        "                tiempoCola.append(tiempoFinServicio[i - 1] - tiempoLlegada[i])\n",
        "            else:\n",
        "                tiempoCola.append(0)\n",
        "            tiempoInicioServicio.append(tiempoLlegada[i] + tiempoCola[i])\n",
        "            tiempoFinServicio.append(tiempoServicio[i] + tiempoInicioServicio[i])\n",
        "            tiempoSistema.append(tiempoServicio[i] + tiempoCola[i])\n",
        "    print(tiempoSistema)\n",
        "\n",
        "punto1()"
      ],
      "execution_count": null,
      "outputs": [
        {
          "output_type": "stream",
          "text": [
            "[40, 53, 76, 92, 106, 101, 104, 99, 44, 56, 40, 72, 12]\n"
          ],
          "name": "stdout"
        }
      ]
    },
    {
      "cell_type": "markdown",
      "metadata": {
        "id": "ZKWnA0M4lJKY",
        "colab_type": "text"
      },
      "source": [
        ""
      ]
    },
    {
      "cell_type": "markdown",
      "metadata": {
        "id": "cpUpE8lokBBR",
        "colab_type": "text"
      },
      "source": [
        "## 2.\n",
        "Implementar el método de cuadrados medios (Mid-Square) para cualquier numero de $2n$ cifras."
      ]
    },
    {
      "cell_type": "code",
      "metadata": {
        "id": "u59S6W7QpbRJ",
        "colab_type": "code",
        "colab": {}
      },
      "source": [
        "def punto2 ():\n",
        "    n=\"7084\"\n",
        "    v=0\n",
        "    if len(n) <= 4:\n",
        "      n = n.zfill(4)\n",
        "      print('n es =',n)\n",
        "      for x in range(20): \n",
        "            x0v2 = str(int(n)**2)\n",
        "            x0=n;\n",
        "            print('x sub',v,'=',x0)\n",
        "            x0v2 = x0v2.zfill(8)\n",
        "            x1= str(x0v2)\n",
        "            print('x sub',v,'al cuadraro es =',x1)\n",
        "            x11 = x1[2:6]\n",
        "            v=v+1\n",
        "            print('x sub',v,'es',x11)\n",
        "            u1=float(int(x11)/10000)\n",
        "            print('U sub',v,'es',u1)\n",
        "            n=x11;\n",
        "punto2()"
      ],
      "execution_count": null,
      "outputs": []
    },
    {
      "cell_type": "markdown",
      "metadata": {
        "id": "aRS-Mj1pcjCF",
        "colab_type": "text"
      },
      "source": [
        "## 3.\n",
        "Si $x_0=5$ y\n",
        "$$ x_n = 3x_{n-1} \\mod 150 $$\n",
        "\n",
        "encuentre $x_1,...,x_{10}$"
      ]
    },
    {
      "cell_type": "code",
      "metadata": {
        "id": "eMRkbSDhfdcZ",
        "colab_type": "code",
        "colab": {}
      },
      "source": [
        "def punto3():\n",
        "\n",
        "  cont=0\n",
        "  vectorXn=[]\n",
        "  x0=5\n",
        "  for x in range (11): \n",
        "      vectorXn.append(x0)\n",
        "      xn=(((3*(x0))) % 150)\n",
        "      x0=xn\n",
        "      print('Xsub',x,vectorXn[x])\n",
        "\n",
        "punto3()"
      ],
      "execution_count": null,
      "outputs": []
    },
    {
      "cell_type": "markdown",
      "metadata": {
        "id": "ycKN0yXRd0wD",
        "colab_type": "text"
      },
      "source": [
        "## 4.\n",
        "Si $ x_0=3 $ y\n",
        "$$ x_n = (5x_{n-1}+7) \\mod 200 $$\n",
        "\n",
        "encuentre $x_1,...,x_{10}$"
      ]
    },
    {
      "cell_type": "code",
      "metadata": {
        "id": "IQSVgbpifc9T",
        "colab_type": "code",
        "colab": {}
      },
      "source": [
        "def punto4():\n",
        "\n",
        "  cont=0\n",
        "  vectorXn=[]\n",
        "  x0=3\n",
        "  for x in range (11): \n",
        "      vectorXn.append(x0)\n",
        "      xn=((((5*(x0))+7)) % 200)\n",
        "      x0=xn\n",
        "      print('Xsub',x,vectorXn[x])\n",
        "punto4()"
      ],
      "execution_count": null,
      "outputs": []
    },
    {
      "cell_type": "markdown",
      "metadata": {
        "id": "R4qXgEoJG_Uv",
        "colab_type": "text"
      },
      "source": [
        "## 5.\n",
        "Si $x_0=137$ y\n",
        "$$x_n = (15x_{n-1}+3) \\mod 21$$\n",
        "\n",
        "**a)** encuentre $x_1,...,x_{100}$"
      ]
    },
    {
      "cell_type": "code",
      "metadata": {
        "id": "hgXiAOH3bo7f",
        "colab_type": "code",
        "colab": {}
      },
      "source": [
        "def punto5():\n",
        "\n",
        "  cont=0\n",
        "  vectorXn=[]\n",
        "  x0=137\n",
        "  for x in range (101): \n",
        "      vectorXn.append(x0)\n",
        "      xn=((((15*(x0))+3)) % 21)\n",
        "      x0=xn\n",
        "      print('Xsub',x,vectorXn[x])\n",
        "punto5()"
      ],
      "execution_count": null,
      "outputs": []
    },
    {
      "cell_type": "markdown",
      "metadata": {
        "id": "cvNyzsN9-gqe",
        "colab_type": "text"
      },
      "source": [
        "**b)** el tamaño del ciclo (si lo tiene)"
      ]
    },
    {
      "cell_type": "code",
      "metadata": {
        "id": "vTeBbd5YHLhe",
        "colab_type": "code",
        "colab": {
          "base_uri": "https://localhost:8080/",
          "height": 34
        },
        "outputId": "db62cd83-52a5-4898-f9c9-fe1f94aafda3"
      },
      "source": [
        "def punto5():\n",
        "\n",
        "  cont=0\n",
        "  vectorXn=[]\n",
        "  x0=137\n",
        "  for x in range (101): \n",
        "      vectorXn.append(x0)\n",
        "      xn=((((15*(x0))+3)) % 21)\n",
        "      x0=xn\n",
        "  p=vectorXn[2:len(vectorXn)].index(0)\n",
        "  print('el ciclo tiene un tamaño de :',p+2)  \n",
        "punto5()\n"
      ],
      "execution_count": null,
      "outputs": [
        {
          "output_type": "stream",
          "text": [
            "el ciclo tiene un tamaño de : 8\n"
          ],
          "name": "stdout"
        }
      ]
    },
    {
      "cell_type": "markdown",
      "metadata": {
        "id": "zdWnWWHhsl0f",
        "colab_type": "text"
      },
      "source": [
        "## 6.\n",
        "Si $ x_0=7 $ y\n",
        "$$ x_n = (5x_{n-1}+3) \\mod 33$$\n",
        "\n",
        "**a)** encuentre $u_1,...,u_{100}$"
      ]
    },
    {
      "cell_type": "code",
      "metadata": {
        "id": "UE2d7o_2tCMV",
        "colab_type": "code",
        "colab": {}
      },
      "source": [
        "def punto7():\n",
        "\n",
        "  cont=0\n",
        "  vectorUn=[]\n",
        "  x0=123\n",
        "  for x in range (101):\n",
        "    \n",
        "    if x ==0:\n",
        "      \n",
        "      xn=(((17*(x0))+3) % 16)\n",
        "      vectorUn.append(cont)\n",
        "    else:\n",
        "      \n",
        "      xn=(((17*(x0))+3) % 16)\n",
        "      x0=xn\n",
        "      vectorUn.append(xn/16)\n",
        "    print('Usub',x,vectorUn[x])\n",
        "\n",
        "punto7()"
      ],
      "execution_count": null,
      "outputs": []
    },
    {
      "cell_type": "markdown",
      "metadata": {
        "id": "RlNYVdyGtCm5",
        "colab_type": "text"
      },
      "source": [
        "**b)** el tamaño del ciclo (si lo tiene)"
      ]
    },
    {
      "cell_type": "code",
      "metadata": {
        "id": "7WiQHBIKuVrO",
        "colab_type": "code",
        "colab": {
          "base_uri": "https://localhost:8080/",
          "height": 34
        },
        "outputId": "183d81f4-ef3f-41d7-c9c2-12213c9ae7d6"
      },
      "source": [
        "def punto7():\n",
        "\n",
        "  cont=0\n",
        "  vectorUn=[]\n",
        "  x0=123\n",
        "  for x in range (101):\n",
        "    \n",
        "    if x ==0:\n",
        "      \n",
        "      xn=(((17*(x0))+3) % 16)\n",
        "      vectorUn.append(cont)\n",
        "    else:\n",
        "      \n",
        "      xn=(((17*(x0))+3) % 16)\n",
        "      x0=xn\n",
        "      vectorUn.append(xn/16)\n",
        "      \n",
        "  p=vectorUn[2:len(vectorUn)].index(0.875)\n",
        "  print('el ciclo tiene un tamaño de :',p+2)   \n",
        "\n",
        "punto7()"
      ],
      "execution_count": null,
      "outputs": [
        {
          "output_type": "stream",
          "text": [
            "el ciclo tiene un tamaño de : 17\n"
          ],
          "name": "stdout"
        }
      ]
    },
    {
      "cell_type": "markdown",
      "metadata": {
        "id": "3PRnEgWTt_Jg",
        "colab_type": "text"
      },
      "source": [
        "## 7.\n",
        "Si $ x_0=123 $ y\n",
        "$$ x_n = (17x_{n-1}+3) \\mod 16 $$\n",
        "\n",
        "**a)** encuentre $u_1,...,u_{100}$"
      ]
    },
    {
      "cell_type": "code",
      "metadata": {
        "id": "d7fIcVc3kT3B",
        "colab_type": "code",
        "colab": {}
      },
      "source": [
        "def punto7():\n",
        "\n",
        "  cont=0\n",
        "  vectorUn=[]\n",
        "  x0=123\n",
        "  for x in range (101):\n",
        "    \n",
        "    if x ==0:\n",
        "      \n",
        "      xn=(((17*(x0))+3) % 16)\n",
        "      vectorUn.append(cont)\n",
        "    else:\n",
        "      \n",
        "      xn=(((17*(x0))+3) % 16)\n",
        "      x0=xn\n",
        "      vectorUn.append(xn/16)\n",
        "    print('Usub',x,vectorUn[x])\n",
        "punto7()"
      ],
      "execution_count": null,
      "outputs": []
    },
    {
      "cell_type": "markdown",
      "metadata": {
        "id": "aK_uyM2nuWGe",
        "colab_type": "text"
      },
      "source": [
        "**b)** el tamaño del ciclo (si lo tiene)"
      ]
    },
    {
      "cell_type": "code",
      "metadata": {
        "id": "aq2NrdxduW3O",
        "colab_type": "code",
        "colab": {}
      },
      "source": [
        "def punto7():\n",
        "\n",
        "  cont=0\n",
        "  vectorUn=[]\n",
        "  x0=123\n",
        "  for x in range (101):\n",
        "    \n",
        "    if x ==0:\n",
        "      \n",
        "      xn=(((17*(x0))+3) % 16)\n",
        "      vectorUn.append(cont)\n",
        "    else:\n",
        "      \n",
        "      xn=(((17*(x0))+3) % 16)\n",
        "      x0=xn\n",
        "      vectorUn.append(xn/16)\n",
        "  p=vectorUn[2:len(vectorUn)].index(0.875)\n",
        "  print('el ciclo tiene un tamaño de :',p+2)   \n",
        "punto7()"
      ],
      "execution_count": null,
      "outputs": []
    },
    {
      "cell_type": "markdown",
      "metadata": {
        "id": "1KkIOtVzHL_w",
        "colab_type": "text"
      },
      "source": [
        "## 8.\n",
        "Dados los siguientes valores de la distribución de probabilidad discreta de la variable aleatoria $X$ de un dado de 12 lados: $X = {1,2,3,4,5,6,7,8,9,10,11,12}$, $p(X) = {0.06,0.05,0.05,0.04,0.02,0.02,0.05,0.07,0.2,0.25,0.1,0.09}$, ¿Qué valores retornaría el generador de variables aleatorias por el método de la inversión si los números aleatorios generados son: $U = {0.6996, 0.0318, 0.6344, 0.1708, 0.6865, 0.1573, 0.9454, 0.8211, 0.9102, 0.2579}$?"
      ]
    },
    {
      "cell_type": "code",
      "metadata": {
        "id": "bhEDWJ38rXGc",
        "colab_type": "code",
        "colab": {}
      },
      "source": [
        "def inversion():\n",
        "  j=0\n",
        "  cont=0\n",
        "  aux=0\n",
        "  #xs es la suma de las px\n",
        "  xs=[]\n",
        "  #xi es el numero que debemos hallar buscando donde estan el ui\n",
        "  xi=[]\n",
        "  x=[1,2,3,4,5,6,7,8,9,10,11,12]\n",
        "  px=[0.06,0.05,0.05,0.04,0.02,0.02,0.05,0.07,0.2,0.25,0.1,0.09]\n",
        "  ui=[0.6996,0.0318,0.6344,0.1708,0.6865,0.1573,0.9454,0.8211,0.9102,0.2579]\n",
        "  for i in px:\n",
        "    xs.append(i+j)\n",
        "    j+=i\n",
        "  print(\"xsuma\")\n",
        "  print(xs)\n",
        "  for i in ui:\n",
        "    for h in xs:\n",
        "      if i < h:\n",
        "        xi.append(x[cont])\n",
        "        break\n",
        "      cont+=1\n",
        "    cont=0\n",
        "  print(\"Xi\")\n",
        "  print(xi)\n",
        "inversion()"
      ],
      "execution_count": null,
      "outputs": []
    },
    {
      "cell_type": "markdown",
      "metadata": {
        "id": "Y4Ct4DYjrwZh",
        "colab_type": "text"
      },
      "source": [
        "## 9.\n",
        "Implememente la técnica de aceptación y rechazo para la generación de variables aleatorias.\n",
        "\n",
        "**a)** Use la técnica de aceptación y rechazo implementada para la generación de valores aleatorios de la distribución de probabilidad discreta de la suma de la cara de dos dados.<br>\n",
        "**b)** Compare con el método de la transformada inversa generando 50000 valores aleatorios con la misma distribución de probabilidad discreta midiendo el tiempo que toma por cada método generar la misma cantidad de valores aleatorios."
      ]
    },
    {
      "cell_type": "code",
      "metadata": {
        "id": "IUrE7F7T28Ra",
        "colab_type": "code",
        "colab": {}
      },
      "source": [
        ""
      ],
      "execution_count": null,
      "outputs": []
    },
    {
      "cell_type": "markdown",
      "metadata": {
        "id": "s_d8nqQP6Y7y",
        "colab_type": "text"
      },
      "source": [
        "## 10.\n",
        "Implemente el ejemplo de simulación Ad Hoc de clientes atendidos por un cajero de un banco del Taller 0 generando las variables aleatorias discretas tanto del número de minutos entre las llegadas de un cliente y otro al banco ($X$), así como del numero de minutos que le toma al cajero atender un cliente ($Y$). <br>\n",
        "$X$ es una distribución de Poisson con $\\lambda = 5$<br>\n",
        "$Y$ es una distribución Binomial con $n=20$ y $p=0.4$.<br>\n",
        "Calcular las respectivas medidas de desempeño."
      ]
    },
    {
      "cell_type": "code",
      "metadata": {
        "id": "zUbhD7zu-kV9",
        "colab_type": "code",
        "colab": {}
      },
      "source": [
        ""
      ],
      "execution_count": null,
      "outputs": []
    }
  ]
}